{
 "cells": [
  {
   "cell_type": "markdown",
   "id": "7a43faf6",
   "metadata": {},
   "source": [
    "# FACE, HAND and POSE DETECTION WITH OPEN CV"
   ]
  },
  {
   "cell_type": "code",
   "execution_count": 1,
   "id": "41d46ba3",
   "metadata": {
    "ExecuteTime": {
     "end_time": "2022-10-11T21:07:12.614130Z",
     "start_time": "2022-10-11T21:07:12.591133Z"
    }
   },
   "outputs": [],
   "source": [
    "# !pip install mediapipe opencv-python"
   ]
  },
  {
   "cell_type": "code",
   "execution_count": 1,
   "id": "80e1efbf",
   "metadata": {
    "ExecuteTime": {
     "end_time": "2022-10-12T06:10:29.996377Z",
     "start_time": "2022-10-12T06:10:03.047637Z"
    }
   },
   "outputs": [],
   "source": [
    "import mediapipe as mp\n",
    "import cv2"
   ]
  },
  {
   "cell_type": "code",
   "execution_count": 2,
   "id": "04b769c9",
   "metadata": {
    "ExecuteTime": {
     "end_time": "2022-10-12T06:10:30.012377Z",
     "start_time": "2022-10-12T06:10:30.001384Z"
    }
   },
   "outputs": [],
   "source": [
    "mp_drawing = mp.solutions.drawing_utils\n",
    "mp_holistic = mp.solutions.holistic"
   ]
  },
  {
   "cell_type": "markdown",
   "id": "b7e21c14",
   "metadata": {},
   "source": [
    "# Make Detections From Feed"
   ]
  },
  {
   "cell_type": "code",
   "execution_count": 31,
   "id": "73554753",
   "metadata": {
    "ExecuteTime": {
     "end_time": "2022-10-12T07:08:43.911718Z",
     "start_time": "2022-10-12T07:08:13.157625Z"
    }
   },
   "outputs": [],
   "source": [
    "cap = cv2.VideoCapture(0)\n",
    "# 0 is default webcam number. If it is not works try other numbers\n",
    "\n",
    "with mp_holistic.Holistic(min_detection_confidence=0.5, min_tracking_confidence=0.5) as holistic:\n",
    "# INITIATE HOLISTIC MODEL \n",
    "# If you want higher accuracy you should get upper these parameters    \n",
    "    while cap.isOpened():\n",
    "    # Webcam is opened\n",
    "    \n",
    "        ret,frame = cap.read()\n",
    "        # Reading a feed from web cam\n",
    "        \n",
    "        # RECOLOR FEED\n",
    "        image = cv2.cvtColor(frame, cv2.COLOR_BGR2RGB)\n",
    "        # We get image in BGR format but to get image into cv2, we replace it to RGB\n",
    "        \n",
    "        #MAKE DETECTIONS\n",
    "        results = holistic.process(image)\n",
    "        \n",
    "        #face_landmarks, left_hand_landmarks, right_hand_landmarks, pose_landmarks\n",
    "        \n",
    "        # RECOLOR IMAGE BACK TO BGR FOR RENDERING\n",
    "        image = cv2.cvtColor(image, cv2.COLOR_RGB2BGR)\n",
    "        \n",
    "        #DRAW FACE LANDMARKS\n",
    "        mp_drawing.draw_landmarks(image, results.face_landmarks, mp_holistic.FACEMESH_CONTOURS,\n",
    "                                mp_drawing.DrawingSpec((80,100,10),thickness=1, circle_radius=1),\n",
    "                                mp_drawing.DrawingSpec((80,255,121),thickness=1, circle_radius=1))\n",
    "        \n",
    "        #RIGHT HAND\n",
    "        mp_drawing.draw_landmarks(image, results.right_hand_landmarks, mp_holistic.HAND_CONNECTIONS, \n",
    "                                mp_drawing.DrawingSpec((80,22,10),thickness=2, circle_radius=2),\n",
    "                                mp_drawing.DrawingSpec((80,44,121),thickness=2, circle_radius=2))\n",
    "        \n",
    "        #LEFT HAND\n",
    "        mp_drawing.draw_landmarks(image, results.left_hand_landmarks, mp_holistic.HAND_CONNECTIONS,\n",
    "                                mp_drawing.DrawingSpec((121,22,76),thickness=2, circle_radius=2),\n",
    "                                mp_drawing.DrawingSpec((121,44,250),thickness=2, circle_radius=2))\n",
    "        \n",
    "        #POSE DETECTION\n",
    "        mp_drawing.draw_landmarks(image, results.pose_landmarks, mp_holistic.POSE_CONNECTIONS,\n",
    "                                mp_drawing.DrawingSpec((245,117,66),thickness=3, circle_radius=3),\n",
    "                                mp_drawing.DrawingSpec((245,66,230),thickness=3, circle_radius=3))\n",
    "        \n",
    "        cv2.imshow(\"Raw Webcam Feed\", image)\n",
    "\n",
    "        if cv2.waitKey(10) & 0xFF == ord('q'):\n",
    "        # Go out with ponly press \"q\" key\n",
    "            break\n",
    "cap.release()\n",
    "cv2.destroyAllWindows()"
   ]
  },
  {
   "cell_type": "code",
   "execution_count": null,
   "id": "1b42d1c0",
   "metadata": {},
   "outputs": [],
   "source": []
  }
 ],
 "metadata": {
  "hide_input": false,
  "kernelspec": {
   "display_name": "Python 3 (ipykernel)",
   "language": "python",
   "name": "python3"
  },
  "language_info": {
   "codemirror_mode": {
    "name": "ipython",
    "version": 3
   },
   "file_extension": ".py",
   "mimetype": "text/x-python",
   "name": "python",
   "nbconvert_exporter": "python",
   "pygments_lexer": "ipython3",
   "version": "3.8.12"
  },
  "toc": {
   "base_numbering": 1,
   "nav_menu": {},
   "number_sections": false,
   "sideBar": true,
   "skip_h1_title": false,
   "title_cell": "Table of Contents",
   "title_sidebar": "Contents",
   "toc_cell": false,
   "toc_position": {},
   "toc_section_display": true,
   "toc_window_display": true
  }
 },
 "nbformat": 4,
 "nbformat_minor": 5
}
